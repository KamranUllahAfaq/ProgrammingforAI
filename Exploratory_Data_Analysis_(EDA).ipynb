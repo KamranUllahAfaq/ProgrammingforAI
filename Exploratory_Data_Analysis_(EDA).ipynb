{
  "metadata": {
    "kernelspec": {
      "language": "python",
      "display_name": "Python 3",
      "name": "python3"
    },
    "language_info": {
      "name": "python",
      "version": "3.10.14",
      "mimetype": "text/x-python",
      "codemirror_mode": {
        "name": "ipython",
        "version": 3
      },
      "pygments_lexer": "ipython3",
      "nbconvert_exporter": "python",
      "file_extension": ".py"
    },
    "kaggle": {
      "accelerator": "none",
      "dataSources": [
        {
          "sourceId": 2879186,
          "sourceType": "datasetVersion",
          "datasetId": 826163
        }
      ],
      "dockerImageVersionId": 30786,
      "isInternetEnabled": true,
      "language": "python",
      "sourceType": "notebook",
      "isGpuEnabled": false
    },
    "colab": {
      "name": "Exploratory Data Analysis (EDA)",
      "provenance": [],
      "include_colab_link": true
    }
  },
  "nbformat_minor": 0,
  "nbformat": 4,
  "cells": [
    {
      "cell_type": "markdown",
      "metadata": {
        "id": "view-in-github",
        "colab_type": "text"
      },
      "source": [
        "<a href=\"https://colab.research.google.com/github/KamranUllahAfaq/ProgrammingforAI/blob/main/Exploratory_Data_Analysis_(EDA).ipynb\" target=\"_parent\"><img src=\"https://colab.research.google.com/assets/colab-badge.svg\" alt=\"Open In Colab\"/></a>"
      ]
    },
    {
      "source": [
        "# IMPORTANT: RUN THIS CELL IN ORDER TO IMPORT YOUR KAGGLE DATA SOURCES,\n",
        "# THEN FEEL FREE TO DELETE THIS CELL.\n",
        "# NOTE: THIS NOTEBOOK ENVIRONMENT DIFFERS FROM KAGGLE'S PYTHON\n",
        "# ENVIRONMENT SO THERE MAY BE MISSING LIBRARIES USED BY YOUR\n",
        "# NOTEBOOK.\n",
        "import kagglehub\n",
        "brendan45774_test_file_path = kagglehub.dataset_download('brendan45774/test-file')\n",
        "\n",
        "print('Data source import complete.')\n"
      ],
      "metadata": {
        "id": "hxza96ekRnrw",
        "outputId": "59a326e2-4baf-4215-b751-8c712ba39741",
        "colab": {
          "base_uri": "https://localhost:8080/"
        }
      },
      "cell_type": "code",
      "outputs": [
        {
          "output_type": "stream",
          "name": "stdout",
          "text": [
            "Data source import complete.\n"
          ]
        }
      ],
      "execution_count": 3
    },
    {
      "cell_type": "code",
      "source": [
        "import pandas as pd\n",
        "import seaborn as sns\n",
        "\n",
        "df = pd.read_csv('/kaggle/input/test-file/tested.csv')\n",
        "\n",
        "df.shape"
      ],
      "metadata": {
        "execution": {
          "iopub.status.busy": "2024-10-30T20:33:25.566006Z",
          "iopub.execute_input": "2024-10-30T20:33:25.566619Z",
          "iopub.status.idle": "2024-10-30T20:33:25.58068Z",
          "shell.execute_reply.started": "2024-10-30T20:33:25.566558Z",
          "shell.execute_reply": "2024-10-30T20:33:25.579471Z"
        },
        "trusted": true,
        "id": "8VOBgNrpRnry",
        "outputId": "f7b1a96b-b0ad-4c50-a8ad-bb287387d5e8",
        "colab": {
          "base_uri": "https://localhost:8080/",
          "height": 370
        }
      },
      "execution_count": 4,
      "outputs": [
        {
          "output_type": "error",
          "ename": "FileNotFoundError",
          "evalue": "[Errno 2] No such file or directory: '/kaggle/input/test-file/tested.csv'",
          "traceback": [
            "\u001b[0;31m---------------------------------------------------------------------------\u001b[0m",
            "\u001b[0;31mFileNotFoundError\u001b[0m                         Traceback (most recent call last)",
            "\u001b[0;32m<ipython-input-4-96370fc95308>\u001b[0m in \u001b[0;36m<cell line: 4>\u001b[0;34m()\u001b[0m\n\u001b[1;32m      2\u001b[0m \u001b[0;32mimport\u001b[0m \u001b[0mseaborn\u001b[0m \u001b[0;32mas\u001b[0m \u001b[0msns\u001b[0m\u001b[0;34m\u001b[0m\u001b[0;34m\u001b[0m\u001b[0m\n\u001b[1;32m      3\u001b[0m \u001b[0;34m\u001b[0m\u001b[0m\n\u001b[0;32m----> 4\u001b[0;31m \u001b[0mdf\u001b[0m \u001b[0;34m=\u001b[0m \u001b[0mpd\u001b[0m\u001b[0;34m.\u001b[0m\u001b[0mread_csv\u001b[0m\u001b[0;34m(\u001b[0m\u001b[0;34m'/kaggle/input/test-file/tested.csv'\u001b[0m\u001b[0;34m)\u001b[0m\u001b[0;34m\u001b[0m\u001b[0;34m\u001b[0m\u001b[0m\n\u001b[0m\u001b[1;32m      5\u001b[0m \u001b[0;34m\u001b[0m\u001b[0m\n\u001b[1;32m      6\u001b[0m \u001b[0mdf\u001b[0m\u001b[0;34m.\u001b[0m\u001b[0mshape\u001b[0m\u001b[0;34m\u001b[0m\u001b[0;34m\u001b[0m\u001b[0m\n",
            "\u001b[0;32m/usr/local/lib/python3.10/dist-packages/pandas/io/parsers/readers.py\u001b[0m in \u001b[0;36mread_csv\u001b[0;34m(filepath_or_buffer, sep, delimiter, header, names, index_col, usecols, dtype, engine, converters, true_values, false_values, skipinitialspace, skiprows, skipfooter, nrows, na_values, keep_default_na, na_filter, verbose, skip_blank_lines, parse_dates, infer_datetime_format, keep_date_col, date_parser, date_format, dayfirst, cache_dates, iterator, chunksize, compression, thousands, decimal, lineterminator, quotechar, quoting, doublequote, escapechar, comment, encoding, encoding_errors, dialect, on_bad_lines, delim_whitespace, low_memory, memory_map, float_precision, storage_options, dtype_backend)\u001b[0m\n\u001b[1;32m   1024\u001b[0m     \u001b[0mkwds\u001b[0m\u001b[0;34m.\u001b[0m\u001b[0mupdate\u001b[0m\u001b[0;34m(\u001b[0m\u001b[0mkwds_defaults\u001b[0m\u001b[0;34m)\u001b[0m\u001b[0;34m\u001b[0m\u001b[0;34m\u001b[0m\u001b[0m\n\u001b[1;32m   1025\u001b[0m \u001b[0;34m\u001b[0m\u001b[0m\n\u001b[0;32m-> 1026\u001b[0;31m     \u001b[0;32mreturn\u001b[0m \u001b[0m_read\u001b[0m\u001b[0;34m(\u001b[0m\u001b[0mfilepath_or_buffer\u001b[0m\u001b[0;34m,\u001b[0m \u001b[0mkwds\u001b[0m\u001b[0;34m)\u001b[0m\u001b[0;34m\u001b[0m\u001b[0;34m\u001b[0m\u001b[0m\n\u001b[0m\u001b[1;32m   1027\u001b[0m \u001b[0;34m\u001b[0m\u001b[0m\n\u001b[1;32m   1028\u001b[0m \u001b[0;34m\u001b[0m\u001b[0m\n",
            "\u001b[0;32m/usr/local/lib/python3.10/dist-packages/pandas/io/parsers/readers.py\u001b[0m in \u001b[0;36m_read\u001b[0;34m(filepath_or_buffer, kwds)\u001b[0m\n\u001b[1;32m    618\u001b[0m \u001b[0;34m\u001b[0m\u001b[0m\n\u001b[1;32m    619\u001b[0m     \u001b[0;31m# Create the parser.\u001b[0m\u001b[0;34m\u001b[0m\u001b[0;34m\u001b[0m\u001b[0m\n\u001b[0;32m--> 620\u001b[0;31m     \u001b[0mparser\u001b[0m \u001b[0;34m=\u001b[0m \u001b[0mTextFileReader\u001b[0m\u001b[0;34m(\u001b[0m\u001b[0mfilepath_or_buffer\u001b[0m\u001b[0;34m,\u001b[0m \u001b[0;34m**\u001b[0m\u001b[0mkwds\u001b[0m\u001b[0;34m)\u001b[0m\u001b[0;34m\u001b[0m\u001b[0;34m\u001b[0m\u001b[0m\n\u001b[0m\u001b[1;32m    621\u001b[0m \u001b[0;34m\u001b[0m\u001b[0m\n\u001b[1;32m    622\u001b[0m     \u001b[0;32mif\u001b[0m \u001b[0mchunksize\u001b[0m \u001b[0;32mor\u001b[0m \u001b[0miterator\u001b[0m\u001b[0;34m:\u001b[0m\u001b[0;34m\u001b[0m\u001b[0;34m\u001b[0m\u001b[0m\n",
            "\u001b[0;32m/usr/local/lib/python3.10/dist-packages/pandas/io/parsers/readers.py\u001b[0m in \u001b[0;36m__init__\u001b[0;34m(self, f, engine, **kwds)\u001b[0m\n\u001b[1;32m   1618\u001b[0m \u001b[0;34m\u001b[0m\u001b[0m\n\u001b[1;32m   1619\u001b[0m         \u001b[0mself\u001b[0m\u001b[0;34m.\u001b[0m\u001b[0mhandles\u001b[0m\u001b[0;34m:\u001b[0m \u001b[0mIOHandles\u001b[0m \u001b[0;34m|\u001b[0m \u001b[0;32mNone\u001b[0m \u001b[0;34m=\u001b[0m \u001b[0;32mNone\u001b[0m\u001b[0;34m\u001b[0m\u001b[0;34m\u001b[0m\u001b[0m\n\u001b[0;32m-> 1620\u001b[0;31m         \u001b[0mself\u001b[0m\u001b[0;34m.\u001b[0m\u001b[0m_engine\u001b[0m \u001b[0;34m=\u001b[0m \u001b[0mself\u001b[0m\u001b[0;34m.\u001b[0m\u001b[0m_make_engine\u001b[0m\u001b[0;34m(\u001b[0m\u001b[0mf\u001b[0m\u001b[0;34m,\u001b[0m \u001b[0mself\u001b[0m\u001b[0;34m.\u001b[0m\u001b[0mengine\u001b[0m\u001b[0;34m)\u001b[0m\u001b[0;34m\u001b[0m\u001b[0;34m\u001b[0m\u001b[0m\n\u001b[0m\u001b[1;32m   1621\u001b[0m \u001b[0;34m\u001b[0m\u001b[0m\n\u001b[1;32m   1622\u001b[0m     \u001b[0;32mdef\u001b[0m \u001b[0mclose\u001b[0m\u001b[0;34m(\u001b[0m\u001b[0mself\u001b[0m\u001b[0;34m)\u001b[0m \u001b[0;34m->\u001b[0m \u001b[0;32mNone\u001b[0m\u001b[0;34m:\u001b[0m\u001b[0;34m\u001b[0m\u001b[0;34m\u001b[0m\u001b[0m\n",
            "\u001b[0;32m/usr/local/lib/python3.10/dist-packages/pandas/io/parsers/readers.py\u001b[0m in \u001b[0;36m_make_engine\u001b[0;34m(self, f, engine)\u001b[0m\n\u001b[1;32m   1878\u001b[0m                 \u001b[0;32mif\u001b[0m \u001b[0;34m\"b\"\u001b[0m \u001b[0;32mnot\u001b[0m \u001b[0;32min\u001b[0m \u001b[0mmode\u001b[0m\u001b[0;34m:\u001b[0m\u001b[0;34m\u001b[0m\u001b[0;34m\u001b[0m\u001b[0m\n\u001b[1;32m   1879\u001b[0m                     \u001b[0mmode\u001b[0m \u001b[0;34m+=\u001b[0m \u001b[0;34m\"b\"\u001b[0m\u001b[0;34m\u001b[0m\u001b[0;34m\u001b[0m\u001b[0m\n\u001b[0;32m-> 1880\u001b[0;31m             self.handles = get_handle(\n\u001b[0m\u001b[1;32m   1881\u001b[0m                 \u001b[0mf\u001b[0m\u001b[0;34m,\u001b[0m\u001b[0;34m\u001b[0m\u001b[0;34m\u001b[0m\u001b[0m\n\u001b[1;32m   1882\u001b[0m                 \u001b[0mmode\u001b[0m\u001b[0;34m,\u001b[0m\u001b[0;34m\u001b[0m\u001b[0;34m\u001b[0m\u001b[0m\n",
            "\u001b[0;32m/usr/local/lib/python3.10/dist-packages/pandas/io/common.py\u001b[0m in \u001b[0;36mget_handle\u001b[0;34m(path_or_buf, mode, encoding, compression, memory_map, is_text, errors, storage_options)\u001b[0m\n\u001b[1;32m    871\u001b[0m         \u001b[0;32mif\u001b[0m \u001b[0mioargs\u001b[0m\u001b[0;34m.\u001b[0m\u001b[0mencoding\u001b[0m \u001b[0;32mand\u001b[0m \u001b[0;34m\"b\"\u001b[0m \u001b[0;32mnot\u001b[0m \u001b[0;32min\u001b[0m \u001b[0mioargs\u001b[0m\u001b[0;34m.\u001b[0m\u001b[0mmode\u001b[0m\u001b[0;34m:\u001b[0m\u001b[0;34m\u001b[0m\u001b[0;34m\u001b[0m\u001b[0m\n\u001b[1;32m    872\u001b[0m             \u001b[0;31m# Encoding\u001b[0m\u001b[0;34m\u001b[0m\u001b[0;34m\u001b[0m\u001b[0m\n\u001b[0;32m--> 873\u001b[0;31m             handle = open(\n\u001b[0m\u001b[1;32m    874\u001b[0m                 \u001b[0mhandle\u001b[0m\u001b[0;34m,\u001b[0m\u001b[0;34m\u001b[0m\u001b[0;34m\u001b[0m\u001b[0m\n\u001b[1;32m    875\u001b[0m                 \u001b[0mioargs\u001b[0m\u001b[0;34m.\u001b[0m\u001b[0mmode\u001b[0m\u001b[0;34m,\u001b[0m\u001b[0;34m\u001b[0m\u001b[0;34m\u001b[0m\u001b[0m\n",
            "\u001b[0;31mFileNotFoundError\u001b[0m: [Errno 2] No such file or directory: '/kaggle/input/test-file/tested.csv'"
          ]
        }
      ]
    },
    {
      "cell_type": "code",
      "source": [
        "df.head(20)"
      ],
      "metadata": {
        "execution": {
          "iopub.status.busy": "2024-10-30T20:33:25.583165Z",
          "iopub.execute_input": "2024-10-30T20:33:25.584078Z",
          "iopub.status.idle": "2024-10-30T20:33:25.609517Z",
          "shell.execute_reply.started": "2024-10-30T20:33:25.584021Z",
          "shell.execute_reply": "2024-10-30T20:33:25.608446Z"
        },
        "trusted": true,
        "id": "XGK0MY_eRnrz"
      },
      "execution_count": null,
      "outputs": []
    },
    {
      "cell_type": "code",
      "source": [
        "df.tail()"
      ],
      "metadata": {
        "execution": {
          "iopub.status.busy": "2024-10-30T20:33:25.610868Z",
          "iopub.execute_input": "2024-10-30T20:33:25.611366Z",
          "iopub.status.idle": "2024-10-30T20:33:25.63123Z",
          "shell.execute_reply.started": "2024-10-30T20:33:25.611308Z",
          "shell.execute_reply": "2024-10-30T20:33:25.629915Z"
        },
        "trusted": true,
        "id": "vP-RT0EiRnr0"
      },
      "execution_count": null,
      "outputs": []
    },
    {
      "cell_type": "code",
      "source": [
        "df.info()"
      ],
      "metadata": {
        "execution": {
          "iopub.status.busy": "2024-10-30T20:33:25.634641Z",
          "iopub.execute_input": "2024-10-30T20:33:25.635213Z",
          "iopub.status.idle": "2024-10-30T20:33:25.650116Z",
          "shell.execute_reply.started": "2024-10-30T20:33:25.635135Z",
          "shell.execute_reply": "2024-10-30T20:33:25.648672Z"
        },
        "trusted": true,
        "id": "Kl8H5L_HRnr0"
      },
      "execution_count": null,
      "outputs": []
    },
    {
      "cell_type": "code",
      "source": [
        "df.isnull().sum()"
      ],
      "metadata": {
        "execution": {
          "iopub.status.busy": "2024-10-30T20:33:25.651887Z",
          "iopub.execute_input": "2024-10-30T20:33:25.652509Z",
          "iopub.status.idle": "2024-10-30T20:33:25.667737Z",
          "shell.execute_reply.started": "2024-10-30T20:33:25.652451Z",
          "shell.execute_reply": "2024-10-30T20:33:25.66653Z"
        },
        "trusted": true,
        "id": "ue07O3oJRnr0"
      },
      "execution_count": null,
      "outputs": []
    },
    {
      "cell_type": "code",
      "source": [
        "df.describe()"
      ],
      "metadata": {
        "execution": {
          "iopub.status.busy": "2024-10-30T20:33:25.669192Z",
          "iopub.execute_input": "2024-10-30T20:33:25.66955Z",
          "iopub.status.idle": "2024-10-30T20:33:25.706827Z",
          "shell.execute_reply.started": "2024-10-30T20:33:25.669508Z",
          "shell.execute_reply": "2024-10-30T20:33:25.70546Z"
        },
        "trusted": true,
        "id": "g00tmXiTRnr1"
      },
      "execution_count": null,
      "outputs": []
    },
    {
      "cell_type": "code",
      "source": [
        "df.duplicated().sum()"
      ],
      "metadata": {
        "execution": {
          "iopub.status.busy": "2024-10-30T20:33:25.708237Z",
          "iopub.execute_input": "2024-10-30T20:33:25.708623Z",
          "iopub.status.idle": "2024-10-30T20:33:25.719385Z",
          "shell.execute_reply.started": "2024-10-30T20:33:25.708582Z",
          "shell.execute_reply": "2024-10-30T20:33:25.71802Z"
        },
        "trusted": true,
        "id": "SFW4UQAvRnr1"
      },
      "execution_count": null,
      "outputs": []
    },
    {
      "cell_type": "code",
      "source": [
        "sns.countplot(x='Survived', data=df)"
      ],
      "metadata": {
        "execution": {
          "iopub.status.busy": "2024-10-30T20:33:25.721534Z",
          "iopub.execute_input": "2024-10-30T20:33:25.722043Z",
          "iopub.status.idle": "2024-10-30T20:33:25.896457Z",
          "shell.execute_reply.started": "2024-10-30T20:33:25.721985Z",
          "shell.execute_reply": "2024-10-30T20:33:25.895274Z"
        },
        "trusted": true,
        "id": "pkrtOPGXRnr1"
      },
      "execution_count": null,
      "outputs": []
    },
    {
      "cell_type": "code",
      "source": [
        "df['Sex'].value_counts().plot(kind='pie',autopct='%0.1f%%')"
      ],
      "metadata": {
        "execution": {
          "iopub.status.busy": "2024-10-30T20:33:25.897765Z",
          "iopub.execute_input": "2024-10-30T20:33:25.898137Z",
          "iopub.status.idle": "2024-10-30T20:33:26.021875Z",
          "shell.execute_reply.started": "2024-10-30T20:33:25.898098Z",
          "shell.execute_reply": "2024-10-30T20:33:26.0207Z"
        },
        "trusted": true,
        "id": "pdBoMDLcRnr1"
      },
      "execution_count": null,
      "outputs": []
    },
    {
      "cell_type": "code",
      "source": [
        "sns.histplot(df['Age'], bins=27, color='blue', alpha=0.6)"
      ],
      "metadata": {
        "execution": {
          "iopub.status.busy": "2024-10-30T20:33:26.026248Z",
          "iopub.execute_input": "2024-10-30T20:33:26.028556Z",
          "iopub.status.idle": "2024-10-30T20:33:26.349309Z",
          "shell.execute_reply.started": "2024-10-30T20:33:26.02849Z",
          "shell.execute_reply": "2024-10-30T20:33:26.348125Z"
        },
        "trusted": true,
        "id": "83NUhGxsRnr2"
      },
      "execution_count": null,
      "outputs": []
    },
    {
      "cell_type": "code",
      "source": [
        "sns.histplot(df['Fare'], bins=30, color='orange', alpha=0.6)"
      ],
      "metadata": {
        "execution": {
          "iopub.status.busy": "2024-10-30T20:33:26.350612Z",
          "iopub.execute_input": "2024-10-30T20:33:26.35098Z",
          "iopub.status.idle": "2024-10-30T20:33:26.645919Z",
          "shell.execute_reply.started": "2024-10-30T20:33:26.350932Z",
          "shell.execute_reply": "2024-10-30T20:33:26.644666Z"
        },
        "trusted": true,
        "id": "llc7pxUuRnr2"
      },
      "execution_count": null,
      "outputs": []
    },
    {
      "cell_type": "code",
      "source": [
        "sns.heatmap(pd.crosstab(df['Pclass'], df['Survived']),annot=True,fmt='d')"
      ],
      "metadata": {
        "execution": {
          "iopub.status.busy": "2024-10-30T20:33:26.647526Z",
          "iopub.execute_input": "2024-10-30T20:33:26.647936Z",
          "iopub.status.idle": "2024-10-30T20:33:26.994351Z",
          "shell.execute_reply.started": "2024-10-30T20:33:26.647893Z",
          "shell.execute_reply": "2024-10-30T20:33:26.993238Z"
        },
        "trusted": true,
        "id": "xTXhv7jqRnr2"
      },
      "execution_count": null,
      "outputs": []
    },
    {
      "cell_type": "code",
      "source": [
        "sns.scatterplot(x='Age', y='Fare', data=df)"
      ],
      "metadata": {
        "execution": {
          "iopub.status.busy": "2024-10-30T20:33:26.995845Z",
          "iopub.execute_input": "2024-10-30T20:33:26.996256Z",
          "iopub.status.idle": "2024-10-30T20:33:27.265937Z",
          "shell.execute_reply.started": "2024-10-30T20:33:26.996212Z",
          "shell.execute_reply": "2024-10-30T20:33:27.264754Z"
        },
        "trusted": true,
        "id": "ERBZ67K2Rnr2"
      },
      "execution_count": null,
      "outputs": []
    },
    {
      "cell_type": "code",
      "source": [
        "# Import necessary libraries\n",
        "import pandas as pd\n",
        "from sklearn.compose import ColumnTransformer\n",
        "from sklearn.impute import SimpleImputer\n",
        "from sklearn.preprocessing import OneHotEncoder\n",
        "\n",
        "# Sample data\n",
        "data = pd.DataFrame({\n",
        "    'Age': [22, None, 24, 22, None, 24],\n",
        "    'Sex': ['male', 'female', 'female', 'male', 'female', 'female'],\n",
        "    'Embarked': ['B', 'B', 'C', 'C', 'C', 'S'],\n",
        "    'Fare': [7.25, 71.83, 8.05, 7.25, 71.83, 8.05]\n",
        "})\n",
        "\n",
        "print(\"this is original dataFrame: \")\n",
        "print(data)\n",
        "\n",
        "# Define ColumnTransformer\n",
        "preprocessor = ColumnTransformer(\n",
        "    transformers=[\n",
        "        ('age_imputer', SimpleImputer(strategy='mean'), ['Age']),         # Impute missing values in 'Age' column\n",
        "        ('ohe', OneHotEncoder(), ['Sex', 'Embarked'])                     # One-hot encode 'Sex' and 'Embarked' columns\n",
        "    ],\n",
        "    remainder='passthrough'  # Keep all other columns as they are\n",
        ")\n",
        "\n",
        "# Apply ColumnTransformer to the data\n",
        "transformed_data = preprocessor.fit_transform(data)\n",
        "\n",
        "\n",
        "print(\"this is transformed dataFrame: \")\n",
        "print(transformed_data)\n",
        "\n",
        "# Convert transformed data back to a DataFrame for easier readability\n",
        "transformed_df = pd.DataFrame(transformed_data, columns=[\n",
        "    'Age', 'Sex_female', 'Sex_male', 'Embarked_B', 'Embarked_C', 'Embarked_S', 'Fare'])\n",
        "\n",
        "# Show the result\n",
        "print(\"Covert the transformed dataFrame into more readable: \")\n",
        "print(transformed_df)\n"
      ],
      "metadata": {
        "execution": {
          "iopub.status.busy": "2024-10-30T20:33:27.267757Z",
          "iopub.execute_input": "2024-10-30T20:33:27.268528Z",
          "iopub.status.idle": "2024-10-30T20:33:27.302739Z",
          "shell.execute_reply.started": "2024-10-30T20:33:27.268472Z",
          "shell.execute_reply": "2024-10-30T20:33:27.301364Z"
        },
        "trusted": true,
        "id": "l6cosGf9Rnr2",
        "outputId": "c1a5e05b-eab4-4837-dd9b-a6569bce5860",
        "colab": {
          "base_uri": "https://localhost:8080/"
        }
      },
      "execution_count": 8,
      "outputs": [
        {
          "output_type": "stream",
          "name": "stdout",
          "text": [
            "this is original dataFrame: \n",
            "    Age     Sex Embarked   Fare\n",
            "0  22.0    male        B   7.25\n",
            "1   NaN  female        B  71.83\n",
            "2  24.0  female        C   8.05\n",
            "3  22.0    male        C   7.25\n",
            "4   NaN  female        C  71.83\n",
            "5  24.0  female        S   8.05\n",
            "this is transformed dataFrame: \n",
            "[[22.    0.    1.    1.    0.    0.    7.25]\n",
            " [23.    1.    0.    1.    0.    0.   71.83]\n",
            " [24.    1.    0.    0.    1.    0.    8.05]\n",
            " [22.    0.    1.    0.    1.    0.    7.25]\n",
            " [23.    1.    0.    0.    1.    0.   71.83]\n",
            " [24.    1.    0.    0.    0.    1.    8.05]]\n",
            "Covert the transformed dataFrame into more readable: \n",
            "    Age  Sex_female  Sex_male  Embarked_B  Embarked_C  Embarked_S   Fare\n",
            "0  22.0         0.0       1.0         1.0         0.0         0.0   7.25\n",
            "1  23.0         1.0       0.0         1.0         0.0         0.0  71.83\n",
            "2  24.0         1.0       0.0         0.0         1.0         0.0   8.05\n",
            "3  22.0         0.0       1.0         0.0         1.0         0.0   7.25\n",
            "4  23.0         1.0       0.0         0.0         1.0         0.0  71.83\n",
            "5  24.0         1.0       0.0         0.0         0.0         1.0   8.05\n"
          ]
        }
      ]
    },
    {
      "cell_type": "code",
      "source": [
        "# Import necessary libraries\n",
        "import pandas as pd\n",
        "from sklearn.preprocessing import FunctionTransformer\n",
        "from sklearn.compose import ColumnTransformer\n",
        "\n",
        "# Sample DataFrame\n",
        "data = pd.DataFrame({\n",
        "    'Age': [22, None, 24, 22, None, 24],\n",
        "    'Sex': ['male', 'female', 'female', 'male', 'female', 'female'],\n",
        "    'Embarked': ['B', 'B', 'C', None, 'C', 'S'],\n",
        "    'Fare': [7.25, 71.83, 8.05, 7.25, 71.83, 8.05]\n",
        "})\n",
        "\n",
        "# Custom function to impute missing values in 'Embarked'\n",
        "def impute_embarked(X):\n",
        "    X['Embarked'] = X['Embarked'].fillna(X['Embarked'].mode()[0])\n",
        "    return X\n",
        "\n",
        "# Create a FunctionTransformer using the custom function\n",
        "embarked_imputer = FunctionTransformer(impute_embarked)\n",
        "\n",
        "# Apply the FunctionTransformer to the data\n",
        "transformed_data = embarked_imputer.fit_transform(data)\n",
        "\n",
        "# Display the transformed DataFrame\n",
        "print(transformed_data)\n"
      ],
      "metadata": {
        "execution": {
          "iopub.status.busy": "2024-10-30T20:33:27.304427Z",
          "iopub.execute_input": "2024-10-30T20:33:27.304899Z",
          "iopub.status.idle": "2024-10-30T20:33:27.324239Z",
          "shell.execute_reply.started": "2024-10-30T20:33:27.304856Z",
          "shell.execute_reply": "2024-10-30T20:33:27.322996Z"
        },
        "trusted": true,
        "id": "wpJckCLHRnr3",
        "outputId": "e21dd72b-d9ea-4572-bc2b-9a03e09d449e",
        "colab": {
          "base_uri": "https://localhost:8080/"
        }
      },
      "execution_count": 7,
      "outputs": [
        {
          "output_type": "stream",
          "name": "stdout",
          "text": [
            "    Age     Sex Embarked   Fare\n",
            "0  22.0    male        B   7.25\n",
            "1   NaN  female        B  71.83\n",
            "2  24.0  female        C   8.05\n",
            "3  22.0    male        B   7.25\n",
            "4   NaN  female        C  71.83\n",
            "5  24.0  female        S   8.05\n"
          ]
        }
      ]
    },
    {
      "cell_type": "code",
      "source": [
        "# Import necessary libraries\n",
        "import pandas as pd\n",
        "from sklearn.preprocessing import FunctionTransformer, OneHotEncoder\n",
        "from sklearn.compose import ColumnTransformer\n",
        "from sklearn.impute import SimpleImputer\n",
        "\n",
        "# Sample DataFrame\n",
        "data = pd.DataFrame({\n",
        "    'Age': [22, None, 24, 22, None, 24],\n",
        "    'Sex': ['male', 'female', 'female', 'male', 'female', 'female'],\n",
        "    'Embarked': ['B', 'B', 'C', None, 'C', 'S'],\n",
        "    'Fare': [7.25, 71.83, 8.05, 7.25, 71.83, 8.05]\n",
        "})\n",
        "\n",
        "print(data)\n",
        "print('\\n')\n",
        "\n",
        "# Custom function to impute missing values in 'Embarked'\n",
        "def impute_embarked(X):\n",
        "    X = X.copy()  # To avoid modifying the original DataFrame\n",
        "    X['Embarked'] = X['Embarked'].fillna(X['Embarked'].mode()[0])\n",
        "    return X\n",
        "\n",
        "# Apply the FunctionTransformer to use the custom imputation function\n",
        "embarked_imputer = FunctionTransformer(impute_embarked)\n",
        "\n",
        "# Apply ColumnTransformer with multiple transformers, including the custom transformer\n",
        "preprocessor = ColumnTransformer(\n",
        "    transformers=[\n",
        "        ('age_imputer', SimpleImputer(strategy='mean'), ['Age']),                  # Impute missing values in 'Age'\n",
        "        ('embarked_imputer', embarked_imputer, ['Embarked']),                      # Custom imputer for 'Embarked'\n",
        "        ('ohe', OneHotEncoder(), ['Sex', 'Embarked'])                              # One-hot encoding for 'Sex' and 'Embarked'\n",
        "    ],\n",
        "    remainder='passthrough'  # Pass through other columns like 'Fare'\n",
        ")\n",
        "\n",
        "# Transform the data\n",
        "transformed_data = preprocessor.fit_transform(data)\n",
        "\n",
        "print(transformed_data)"
      ],
      "metadata": {
        "execution": {
          "iopub.status.busy": "2024-10-30T20:56:10.187781Z",
          "iopub.execute_input": "2024-10-30T20:56:10.188231Z",
          "iopub.status.idle": "2024-10-30T20:56:10.217256Z",
          "shell.execute_reply.started": "2024-10-30T20:56:10.18819Z",
          "shell.execute_reply": "2024-10-30T20:56:10.21603Z"
        },
        "trusted": true,
        "id": "Wl2MoKg-Rnr3",
        "outputId": "325e89d4-7113-4b03-8846-6cb8c0db935a",
        "colab": {
          "base_uri": "https://localhost:8080/"
        }
      },
      "execution_count": 6,
      "outputs": [
        {
          "output_type": "stream",
          "name": "stdout",
          "text": [
            "    Age     Sex Embarked   Fare\n",
            "0  22.0    male        B   7.25\n",
            "1   NaN  female        B  71.83\n",
            "2  24.0  female        C   8.05\n",
            "3  22.0    male     None   7.25\n",
            "4   NaN  female        C  71.83\n",
            "5  24.0  female        S   8.05\n",
            "\n",
            "\n",
            "[[22.0 'B' 0.0 1.0 1.0 0.0 0.0 0.0 7.25]\n",
            " [23.0 'B' 1.0 0.0 1.0 0.0 0.0 0.0 71.83]\n",
            " [24.0 'C' 1.0 0.0 0.0 1.0 0.0 0.0 8.05]\n",
            " [22.0 'B' 0.0 1.0 0.0 0.0 0.0 1.0 7.25]\n",
            " [23.0 'C' 1.0 0.0 0.0 1.0 0.0 0.0 71.83]\n",
            " [24.0 'S' 1.0 0.0 0.0 0.0 1.0 0.0 8.05]]\n"
          ]
        }
      ]
    },
    {
      "cell_type": "code",
      "source": [
        "# Import necessary libraries\n",
        "import pandas as pd\n",
        "from sklearn.preprocessing import FunctionTransformer, OneHotEncoder\n",
        "from sklearn.compose import ColumnTransformer\n",
        "from sklearn.pipeline import Pipeline\n",
        "from sklearn.impute import SimpleImputer\n",
        "\n",
        "# Sample DataFrame\n",
        "data = pd.DataFrame({\n",
        "    'Age': [22, None, 24, 22, None, 24],\n",
        "    'Sex': ['male', 'female', 'female', 'male', 'female', 'female'],\n",
        "    'Embarked': ['B', 'B', 'C', None, 'C', 'S'],\n",
        "    'Fare': [7.25, 71.83, 8.05, 7.25, 71.83, 8.05]\n",
        "})\n",
        "\n",
        "print(data)\n",
        "print('\\n')\n",
        "\n",
        "# Custom function to impute 'Embarked'\n",
        "def impute_embarked(X):\n",
        "    X = X.copy()  # Avoid modifying the original DataFrame\n",
        "    X['Embarked'] = X['Embarked'].fillna(X['Embarked'].mode()[0])\n",
        "    return X\n",
        "\n",
        "# Create a pipeline for the 'Embarked' column\n",
        "embarked_pipeline = Pipeline(steps=[\n",
        "    ('imputer', FunctionTransformer(impute_embarked, validate=False)),\n",
        "    ('onehot', OneHotEncoder())  # Drop the first category to avoid dummy variable trap\n",
        "])\n",
        "\n",
        "# Apply ColumnTransformer with the defined pipeline\n",
        "preprocessor = ColumnTransformer(transformers=[\n",
        "    ('age_imputer', SimpleImputer(strategy='mean'), ['Age']),\n",
        "    ('embarked_encoder', embarked_pipeline, ['Embarked']),\n",
        "    ('ohe', OneHotEncoder(), ['Sex'])  # Drop the first category for Sex as well\n",
        "], remainder='passthrough')  # Pass through other columns like 'Fare'\n",
        "\n",
        "# Transform the data\n",
        "transformed_data = preprocessor.fit_transform(data)\n",
        "\n",
        "# Check the shape of the transformed data\n",
        "print(\"Shape of transformed_data:\", transformed_data.shape)\n",
        "\n",
        "# Get names of one-hot encoded columns for 'Embarked' and 'Sex'\n",
        "embarked_columns = preprocessor.named_transformers_['embarked_encoder'].named_steps['onehot'].get_feature_names_out(['Embarked'])\n",
        "sex_columns = preprocessor.named_transformers_['ohe'].get_feature_names_out(['Sex'])\n",
        "\n",
        "# Construct the complete column names\n",
        "columns = ['Age'] + list(sex_columns) + list(embarked_columns) + ['Fare']\n",
        "\n",
        "# Convert transformed data back to a DataFrame\n",
        "transformed_df = pd.DataFrame(transformed_data, columns=columns)\n",
        "\n",
        "# Show the result\n",
        "print(transformed_df)\n"
      ],
      "metadata": {
        "execution": {
          "iopub.status.busy": "2024-10-30T21:04:58.025033Z",
          "iopub.execute_input": "2024-10-30T21:04:58.025512Z",
          "iopub.status.idle": "2024-10-30T21:04:58.06334Z",
          "shell.execute_reply.started": "2024-10-30T21:04:58.025467Z",
          "shell.execute_reply": "2024-10-30T21:04:58.06187Z"
        },
        "trusted": true,
        "id": "guT_AjflRnr3",
        "outputId": "3bd172d7-abf5-4d2e-b0f7-94209c513c60",
        "colab": {
          "base_uri": "https://localhost:8080/"
        }
      },
      "execution_count": 5,
      "outputs": [
        {
          "output_type": "stream",
          "name": "stdout",
          "text": [
            "    Age     Sex Embarked   Fare\n",
            "0  22.0    male        B   7.25\n",
            "1   NaN  female        B  71.83\n",
            "2  24.0  female        C   8.05\n",
            "3  22.0    male     None   7.25\n",
            "4   NaN  female        C  71.83\n",
            "5  24.0  female        S   8.05\n",
            "\n",
            "\n",
            "Shape of transformed_data: (6, 7)\n",
            "    Age  Sex_female  Sex_male  Embarked_B  Embarked_C  Embarked_S   Fare\n",
            "0  22.0         1.0       0.0         0.0         0.0         1.0   7.25\n",
            "1  23.0         1.0       0.0         0.0         1.0         0.0  71.83\n",
            "2  24.0         0.0       1.0         0.0         1.0         0.0   8.05\n",
            "3  22.0         1.0       0.0         0.0         0.0         1.0   7.25\n",
            "4  23.0         0.0       1.0         0.0         1.0         0.0  71.83\n",
            "5  24.0         0.0       0.0         1.0         1.0         0.0   8.05\n"
          ]
        }
      ]
    }
  ]
}