{
  "nbformat": 4,
  "nbformat_minor": 0,
  "metadata": {
    "colab": {
      "provenance": [],
      "authorship_tag": "ABX9TyPjJSUkVy/VmOCk5ZJHb9Yj",
      "include_colab_link": true
    },
    "kernelspec": {
      "name": "python3",
      "display_name": "Python 3"
    },
    "language_info": {
      "name": "python"
    }
  },
  "cells": [
    {
      "cell_type": "markdown",
      "metadata": {
        "id": "view-in-github",
        "colab_type": "text"
      },
      "source": [
        "<a href=\"https://colab.research.google.com/github/KamranUllahAfaq/ProgrammingforAI/blob/main/lab5.ipynb\" target=\"_parent\"><img src=\"https://colab.research.google.com/assets/colab-badge.svg\" alt=\"Open In Colab\"/></a>"
      ]
    },
    {
      "cell_type": "markdown",
      "source": [
        "1. Add mutation operation in the above code as a separate function similar to the ones added for crossover, fitness and other operations of Genetic Algorithms above. Generate a random number in the range 0 to 7 to decide about which Queen (Gene) to replace in the chromosome with the randomly generated number in the range (0 to 7) representing column number.\n",
        "2. Restructure the complete code to take the number of boards (population size) from the user as an input and perform all the operations of Genetic Algorithm."
      ],
      "metadata": {
        "id": "Mz-oYaCPqFpJ"
      }
    },
    {
      "cell_type": "code",
      "execution_count": null,
      "metadata": {
        "id": "tahLV_fkqCaJ"
      },
      "outputs": [],
      "source": [
        "import numpy as np\n",
        "import random\n",
        "\n",
        "def create_queens_board(size):\n",
        "    queens_board = np.full((size, size), '.')\n",
        "    for row in range(size):\n",
        "        col = random.randint(0, size - 1)\n",
        "        queens_board[row, col] = 'Q'\n",
        "    return queens_board\n",
        "\n",
        "def board_chromosome(board):\n",
        "    queens_positions = np.argwhere(board == 'Q')\n",
        "    cols = queens_positions[:, 1]\n",
        "    return cols\n",
        "\n",
        "def calculate_fitness_numpy(board):\n",
        "    queens_positions = np.argwhere(board == 'Q')\n",
        "    num_queens = len(queens_positions)\n",
        "\n",
        "    rows = queens_positions[:, 0]\n",
        "    cols = queens_positions[:, 1]\n",
        "\n",
        "    col_attacks = num_queens - len(np.unique(cols))\n",
        "    main_diagonal_attacks = num_queens - len(np.unique(rows - cols))\n",
        "    anti_diagonal_attacks = num_queens - len(np.unique(rows + cols))\n",
        "\n",
        "    total_attacks = col_attacks + main_diagonal_attacks + anti_diagonal_attacks\n",
        "    fitness = num_queens - total_attacks\n",
        "    return fitness\n",
        "\n",
        "def top_two_chromosomes(boards, chromosomes, fitness_values):\n",
        "    combined = list(zip(fitness_values, boards, chromosomes))\n",
        "    sorted_combined = sorted(combined, key=lambda x: x[0])\n",
        "    top_two = sorted_combined[-2:]\n",
        "    return top_two\n",
        "\n",
        "def single_point_crossover(parent1, parent2):\n",
        "    crossover_point = random.randint(1, len(parent1) - 1)  # Random crossover point\n",
        "    offspring1 = np.concatenate((parent1[:crossover_point], parent2[crossover_point:]))\n",
        "    offspring2 = np.concatenate((parent2[:crossover_point], parent1[crossover_point:]))\n",
        "    return offspring1, offspring2\n",
        "\n",
        "def mutate(chromosome, size):\n",
        "    # Randomly select a queen to mutate (replace its column)\n",
        "    queen_index = random.randint(0, len(chromosome) - 1)\n",
        "    new_col = random.randint(0, size - 1)\n",
        "    chromosome[queen_index] = new_col\n",
        "    return chromosome\n",
        "\n",
        "def genetic_algorithm(size, num_boards):\n",
        "    boards = []\n",
        "    chromosomes = []\n",
        "    fitness_values = []\n",
        "\n",
        "    for _ in range(num_boards):\n",
        "        board = create_queens_board(size)\n",
        "        boards.append(board)\n",
        "        chromosome = board_chromosome(board)\n",
        "        chromosomes.append(chromosome)\n",
        "        fitness = calculate_fitness_numpy(board)\n",
        "        fitness_values.append(fitness)\n",
        "\n",
        "        print(board)\n",
        "        print('Chromosome:', chromosome)\n",
        "        print('Fitness:', fitness)\n",
        "        print('-----------------')\n",
        "\n",
        "    top_two = top_two_chromosomes(boards, chromosomes, fitness_values)\n",
        "    print('Top Two:')\n",
        "    print(top_two)\n",
        "\n",
        "    parent1 = top_two[-1][2]  # Chromosome of the first top board\n",
        "    parent2 = top_two[-2][2]  # Chromosome of the second top board\n",
        "\n",
        "    offspring1, offspring2 = single_point_crossover(parent1, parent2)\n",
        "\n",
        "    # Apply mutation to both offspring\n",
        "    offspring1 = mutate(offspring1, size)\n",
        "    offspring2 = mutate(offspring2, size)\n",
        "\n",
        "    # Calculate fitness of the offspring\n",
        "    fitness_offspring1 = calculate_fitness_numpy(create_queens_board(size))\n",
        "    fitness_offspring2 = calculate_fitness_numpy(create_queens_board(size))\n",
        "\n",
        "    print(\"Parent 1:\", parent1)\n",
        "    print(\"Parent 2:\", parent2)\n",
        "    print(\"Offspring 1 after mutation:\", offspring1)\n",
        "    print(\"Offspring 2 after mutation:\", offspring2)\n",
        "\n",
        "    # Calculate best fitness\n",
        "    best_fitness = max(fitness_values + [fitness_offspring1, fitness_offspring2])\n",
        "    print(\"Best Fitness:\", best_fitness)\n",
        "\n",
        "if __name__ == \"__main__\":\n",
        "    size = int(input(\"Enter the size of the board (e.g., 8 for an 8x8 board): \"))\n",
        "    num_boards = int(input(\"Enter the number of boards to create: \"))\n",
        "    genetic_algorithm(size, num_boards)"
      ]
    }
  ]
}