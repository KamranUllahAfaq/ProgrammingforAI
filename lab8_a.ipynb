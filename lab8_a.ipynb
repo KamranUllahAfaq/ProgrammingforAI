{
  "nbformat": 4,
  "nbformat_minor": 0,
  "metadata": {
    "colab": {
      "provenance": [],
      "authorship_tag": "ABX9TyOTYssPlFN+wl6POgP+AgZP",
      "include_colab_link": true
    },
    "kernelspec": {
      "name": "python3",
      "display_name": "Python 3"
    },
    "language_info": {
      "name": "python"
    }
  },
  "cells": [
    {
      "cell_type": "markdown",
      "metadata": {
        "id": "view-in-github",
        "colab_type": "text"
      },
      "source": [
        "<a href=\"https://colab.research.google.com/github/KamranUllahAfaq/ProgrammingforAI/blob/main/lab8_a.ipynb\" target=\"_parent\"><img src=\"https://colab.research.google.com/assets/colab-badge.svg\" alt=\"Open In Colab\"/></a>"
      ]
    },
    {
      "cell_type": "code",
      "execution_count": null,
      "metadata": {
        "id": "vTBrilnL0u-O"
      },
      "outputs": [],
      "source": [
        "import pandas as pd\n",
        "from sklearn.preprocessing import MinMaxScaler\n",
        "\n",
        "\n",
        "titanic_data = pd.read_csv('/kaggle/input/test-file/tested.csv')\n",
        "\n",
        "\n",
        "columns_to_scale = ['Age', 'Fare']\n",
        "\n",
        "scaler = MinMaxScaler()\n",
        "\n",
        "titanic_data[columns_to_scale] = scaler.fit_transform(titanic_data[columns_to_scale])\n",
        "\n",
        "print(titanic_data.head(80))\n"
      ]
    }
  ]
}